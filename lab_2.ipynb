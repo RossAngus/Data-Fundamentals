{
 "cells": [
  {
   "cell_type": "markdown",
   "metadata": {
    "deletable": false,
    "editable": false,
    "nbgrader": {
     "checksum": "4f07f49574a8963c9b87cf8947d7fb36",
     "grade": false,
     "grade_id": "cell-513963dffd022dec",
     "locked": true,
     "schema_version": 1,
     "solution": false
    }
   },
   "source": [
    "# Data Fundamentals (H)\n",
    "John H. Williamson -- Session 2018/2019\n",
    "\n",
    "----\n",
    "<font color=\"red\"> Read the submission instructions at the bottom of this notebook **carefully** before submitting </font> \n",
    "\n",
    "**This submission must be your own work; you will have to make a Declaration of Originality on submission.**\n",
    "\n",
    "Note that marks shown when tests pass are **provisional** and could change after grading."
   ]
  },
  {
   "cell_type": "code",
   "execution_count": 2,
   "metadata": {},
   "outputs": [],
   "source": [
    "NAME = \"Ross Angus\" ## fill these in \n",
    "STUDENT_ID = \"2244073A\"  ## e.g. 2222222"
   ]
  },
  {
   "cell_type": "markdown",
   "metadata": {},
   "source": [
    "---"
   ]
  },
  {
   "cell_type": "markdown",
   "metadata": {
    "deletable": false,
    "editable": false,
    "nbgrader": {
     "checksum": "af620c7fd0e7200d801d198da913f1ae",
     "grade": false,
     "grade_id": "cell-96ff555b80754366",
     "locked": true,
     "schema_version": 1,
     "solution": false
    }
   },
   "source": [
    "## Lab 2: **Assessed**\n",
    "# Numerical arrays and vectorized computation"
   ]
  },
  {
   "cell_type": "markdown",
   "metadata": {
    "deletable": false,
    "editable": false,
    "nbgrader": {
     "checksum": "5977a46bfe29a6d33c340800543f0738",
     "grade": false,
     "grade_id": "cell-01c84fe8d49767fe",
     "locked": true,
     "schema_version": 1,
     "solution": false
    }
   },
   "source": [
    "\n",
    "### Notes\n",
    "It is recommended to keep the lecture notes open while doing this lab exercise.\n",
    "\n",
    "**This exercise is assessed**. Make sure you upload your solution by the deadline. See the notes at the bottom of this notebook for submission guidance.\n",
    "\n",
    "\n",
    "### References\n",
    "If you are stuck, the following resources are very helpful:\n",
    "\n",
    "\n",
    "* [NumPy cheatsheet](https://github.com/juliangaal/python-cheat-sheet/blob/master/NumPy/NumPy.md)\n",
    "* [NumPy API reference](https://docs.scipy.org/doc/numpy-1.13.0/reference/)\n",
    "* [NumPy user guide](https://docs.scipy.org/doc/numpy-1.13.0/user/basics.html)\n",
    "\n",
    "\n",
    "* [Python for Data Science cheatsheet](https://s3.amazonaws.com/assets.datacamp.com/blog_assets/PythonForDataScience.pdf)\n",
    "* [Another NumPy Cheatsheet](https://s3.amazonaws.com/assets.datacamp.com/blog_assets/Numpy_Python_Cheat_Sheet.pdf)\n"
   ]
  },
  {
   "cell_type": "markdown",
   "metadata": {
    "deletable": false,
    "editable": false,
    "nbgrader": {
     "checksum": "b5e4bcc8aacf5c40d9b2eef1106fec8a",
     "grade": false,
     "grade_id": "cell-8ede47f17b8fd075",
     "locked": true,
     "schema_version": 1,
     "solution": false
    }
   },
   "source": [
    "## Purpose of this lab\n",
    "This lab should help you:\n",
    "* understand floating point representations\n",
    "* understand how roundoff errors occur and how you can control them\n",
    "* work with higher rank tensors, selecting the attributes you want to work with\n",
    "* understand how to do simple operations in a vectorised manner\n",
    "\n",
    "Note: this labe requires solving puzzles which require that you understand the course material. Very little code is required to get the correct solutions.\n"
   ]
  },
  {
   "cell_type": "code",
   "execution_count": 3,
   "metadata": {},
   "outputs": [
    {
     "name": "stdout",
     "output_type": "stream",
     "text": [
      "Collecting https://github.com/johnhw/jhwutils/zipball/master\n",
      "  Downloading https://github.com/johnhw/jhwutils/zipball/master\n",
      "Installing collected packages: jhwutils\n",
      "  Found existing installation: jhwutils 1.0\n",
      "    Uninstalling jhwutils-1.0:\n",
      "      Successfully uninstalled jhwutils-1.0\n",
      "  Running setup.py install for jhwutils: started\n",
      "    Running setup.py install for jhwutils: finished with status 'done'\n",
      "Successfully installed jhwutils-1.0\n"
     ]
    },
    {
     "name": "stderr",
     "output_type": "stream",
     "text": [
      "twisted 18.7.0 requires PyHamcrest>=1.9.0, which is not installed.\n",
      "You are using pip version 10.0.1, however version 18.1 is available.\n",
      "You should consider upgrading via the 'python -m pip install --upgrade pip' command.\n"
     ]
    }
   ],
   "source": [
    "## custom utils\n",
    "## uncomment and run the line below if you get an error about jhwutils\n",
    "\n",
    "!pip --no-cache install --user -U https://github.com/johnhw/jhwutils/zipball/master   \n",
    "\n",
    "# comment it again before submitting!"
   ]
  },
  {
   "cell_type": "code",
   "execution_count": 4,
   "metadata": {
    "deletable": false,
    "editable": false,
    "nbgrader": {
     "checksum": "d15e4c54664ab0ec70859252cebe6662",
     "grade": false,
     "grade_id": "cell-7d8b7c3700ac1bc7",
     "locked": true,
     "schema_version": 1,
     "solution": false
    }
   },
   "outputs": [
    {
     "name": "stdout",
     "output_type": "stream",
     "text": [
      "Everything imported OK\n"
     ]
    }
   ],
   "source": [
    "# Standard imports\n",
    "# Make sure you run this cell!\n",
    "# NumPy\n",
    "import numpy as np  \n",
    "np.set_printoptions(suppress=True)\n",
    "\n",
    "# Set up Matplotlib\n",
    "import matplotlib as mpl   \n",
    "import matplotlib.pyplot as plt\n",
    "%matplotlib inline\n",
    "plt.rc('figure', figsize=(8.0, 4.0), dpi=140)\n",
    "\n",
    "from jhwutils.checkarr import array_hash, check_hash\n",
    "from jhwutils.float_inspector import print_float_html\n",
    "import jhwutils.image_audio as ia\n",
    "import jhwutils.tick as tick\n",
    "\n",
    "print(\"Everything imported OK\")"
   ]
  },
  {
   "cell_type": "code",
   "execution_count": 45,
   "metadata": {
    "deletable": false,
    "editable": false,
    "nbgrader": {
     "checksum": "5bb827d42ec34dc271a3e4b67b11c8f4",
     "grade": false,
     "grade_id": "cell-92ca501d19c6455b",
     "locked": true,
     "schema_version": 1,
     "solution": false
    }
   },
   "outputs": [],
   "source": [
    "## RUN THIS!\n",
    "# provide AstralSimulator and AstralViewer\n",
    "import lzma, base64\n",
    "exec(lzma.decompress(base64.b64decode('/Td6WFoAAATm1rRGAgAhARYAAAB0L+Wj4AxJBNFdADSbSme4Ujxz6pqAyg1MRxIGFIfjKedj74P7407CxCrCQCaOV7XvEMS/pGrlMQo1Rk06dw3aCiY7GvG+AJwP3W87rMFYp1fbK+mhpaCtsxxdNCrO6HyZGwmHrXiuUCx714gxbwk5GSBr8DwXTHmQ6mLBZz+VIAX8v8wCRRCplTSqeMur4MbIY9zIgBm/LFHo8SvAGkgCAR9MNW38Ebecelmc5fsKJcAZzIbANKtKQZ2GiI0gMrK2zZdJDaUWEz1MoAn4WKrYRub0XCZ5n4zoYMGaSXTNxXdbxVOkOfGG+xZ+F5Fe9oxCpxR5oUJBBHxLVG1DXKOOS/okr7d8lN3DxSzueQCGiHqEAjgAsjKJYmPMK5G3qnLBDwYatvsFiUbq/SbdNorJh5EiKa+xslXJg9J8Rk7t8t+YEFi06pm2aGQzNgOTSG14CGA1PYiie9cFvuL25ulyuPDlBa1xpUpp/DVkVejZnjEa45a1yw2ahE3tDz1nTa4AbXuQk2TtAW5xPpuHLkHcWhHTMMxRYpTY7WaJ/M1b8cKHu3ZWFUxJKhrOPx3AM7FhwjSE0MhP+bifJ/e590DAqqb94Z5MDWjdPuIjLwRtF+u7LfXRl7x8+s16WEx7IKefcWrGQi/OY/ot3mpvKPR5rvYnW8hTaZHVH8jYOFdEzDW6uRRgu17UIHmTIuyFbxtPopKody/As8CiFPp6bZanWs5XvYliJLycz913gDwXMOVagXnsvlMObY/AskaLvalpQaQ/fNqLhQyYb/PgQGB8vsh9i/XPeYfWUwmG8951SufyqQf+MfPgX6qvqNxXg8M4Z5vloNefzGisryYOuPhopL9phtXAFYAijUwxWYuv0wEKgXoVahb+pTTnJ2lSd+k7HepRzTHDA6xoTtQcY0Mfv/p6gfxg2FQb9iXIwVCbYloTBeVEwHLO7NpqwIyaY6xzzrmfTdbMBrVg4sJHsuaxA2pyCPSrP2Z+QvwYgbImYbYFdlA/S3madHSqG42QkUzCitp/HWpftKb0FeNag3Zalz3F9jX7pHp4E7Lhr9U+TgnPAlUtjles6m0bG5nNeBZEIH6JFoAdjHaNmUmv2kYmLVwZQZueaT0HYd4pLfu7SvM7Xb/eUCLE8e2cko3NNBWIdEhqUqqOj2xgdGAyA7syVDXJJeAClRwB1SQPgpR0DejKs3OKU36WLvfCHt3LCWX9BJWQ5dnV0vvbllGm4CLVxRuVmGuK+KVW6zAbRGLwaMrJfl7Z1o7yKIy6vfKAA1DdyFpOw1yS12jcAdgKBqstk6v1F/lzbMXAMLIBDo+VC+UavFJtCjU+nlD1O+QL07EyNFX5ggh1f3fdWU4Gk4RF6BnqP3fOkoVPoYBaklJc4MMVssZy4EoI8tfemA6kPfCicpcsfe7HWGPEBYJ8uEut4KERn/Zk7ABDIUbrfJKToWCqcbgwLsro7De9oJsIB48h9nM9QxO1hfulPUUcAMrROCv8azujNAhuBxxC4wZOr5PUruunS1J/RSMl2vp3PteyuF/k70F2mqpakPSpJ0g826//j31bFVkrnu+hLmpqm8wVHLkZV26rjHet7ark3G5oDb5+1l9bpNVp/U/DkikJ0YcDV9PhC/yuClssDD9Utyb7dDt746yLUYRo8AAAAAAFs1tgjJuhUgAB7QnKGAAAWkJab7HEZ/sCAAAAAARZWg==')))"
   ]
  },
  {
   "cell_type": "markdown",
   "metadata": {
    "deletable": false,
    "editable": false,
    "nbgrader": {
     "checksum": "08b3939dc8ec0a955547782d513d38bc",
     "grade": false,
     "grade_id": "cell-cd90398823b51d3c",
     "locked": true,
     "schema_version": 1,
     "solution": false
    }
   },
   "source": [
    "# 1. Satellite stability [30 minutes]"
   ]
  },
  {
   "cell_type": "markdown",
   "metadata": {},
   "source": [
    "You have been tasked with building a system to perform a satellite alignment maneuver. The satellite has to perform a slow roll to assume a new attitude. It is guided by [astronomical reference system](https://en.wikipedia.org/wiki/Star_tracker) that holds optically sensed star patterns to a reference pattern to hold attitude.\n",
    "\n",
    "<img src=\"imgs/star_tracker.png\">\n",
    "\n",
    "*[By Daniel Chapman - Own work, CC BY-SA 3.0, https://commons.wikimedia.org/w/index.php?curid=26596454]*\n",
    "\n",
    "The satellite is perturbed by a variety of external sources, including solar wind, thrust fluctuations and fluid flow in the fuel tanks. These make extremely tiny variations in the movements that actually occur compared to those that are predicted. The system, however, has built in sensors that can measure the influence of all of these variations very precisely. When the sensors have no adjustment to thrust to make, they use NaN (not a number) to represent no adjustment.\n",
    "\n",
    "You have been presented with the code below, which is supposed to adjust the one of the thrusters of the satellite based on its current thruster state and the a collection of thruster adjustment inputs. The code looks **logically correct**, but it mysteriously does not work. The satellite becomes unstable and goes out of control.\n",
    "\n",
    "## Task\n",
    "Make a *minor* adjustment to the function `corrector` that will fix this problem. This will require knowledge of floating point. Note that you do not need to write any new correction algorithm, but identify and fix the problem in this existing code. This is a very minor adjustment but it requires clear understanding of floating point numbers.\n",
    "\n",
    "Hint: you may wish to print run the simulator for a few steps with:\n",
    "\n",
    "    space_sim.run(5, corrector=corrector)\n",
    "    \n",
    "and perhaps modify the `corrector` function to show the `current_thrust` and `adjustments` as it runs.\n",
    "\n",
    "It should be possible to reduce the attitude error to almost unmeasurably small levels, as the sensing system is extremely accurate.\n"
   ]
  },
  {
   "cell_type": "code",
   "execution_count": 91,
   "metadata": {
    "deletable": false,
    "nbgrader": {
     "checksum": "015fc206f3d5d4727933be635576da17",
     "grade": false,
     "grade_id": "cell-905a07c2d6d59565",
     "locked": false,
     "schema_version": 1,
     "solution": true
    }
   },
   "outputs": [
    {
     "data": {
      "text/plain": [
       "(array([[ 0.48      ,  0.40875   , -0.24208333],\n",
       "        [ 0.4743    ,  0.5594245 , -0.23366578],\n",
       "        [ 0.48110996,  0.70671453, -0.22478134],\n",
       "        ...,\n",
       "        [-5.2424566 ,  1.0098191 , 31.80473345],\n",
       "        [-4.74227455,  0.98948415, 30.90366789],\n",
       "        [-4.28373385,  0.92759823, 30.03264603]]),\n",
       " array([[ 0.48051723,  0.40875   , -0.24208333],\n",
       "        [ 0.47475494,  0.55959127, -0.23366366],\n",
       "        [ 0.48143537,  0.70702626, -0.22477595],\n",
       "        ...,\n",
       "        [-6.10732347,  5.57503555, 36.19729724],\n",
       "        [-5.17273475,  5.77562771, 34.89155052],\n",
       "        [-4.29686672,  5.86744367, 33.66235127]]))"
      ]
     },
     "execution_count": 91,
     "metadata": {},
     "output_type": "execute_result"
    }
   ],
   "source": [
    "space_sim = AstralSimulator()\n",
    "\n",
    "## This function is the corrector\n",
    "## `current_thrust` is a scalar (IEEE754 float64) measuring the current thrust \n",
    "## `adjustments` is the thrust correction computed from the inputs from each of the sensors, representing\n",
    "## the adjustment to apply (also IEEE754 float64, as an array)\n",
    "\n",
    "def corrector(current_thrust, adjustments):\n",
    "\n",
    "    ## Compute the influence of the sensed variations\n",
    "    ## on the current state of the system, to produce a new reference state\n",
    "    \n",
    "    adjustments[(np.isnan(adjustments))] = np.nan_to_num(np.nan)\n",
    "        \n",
    "    ref_state = current_thrust + adjustments\n",
    "    \n",
    "    ## For each adjustment in the reference state,\n",
    "    ## subtract the difference between the reference state and the current\n",
    "    ## state, and accumulate the correction    \n",
    "    for i in range(len(adjustments)):  \n",
    "        #print (current_thrust,ref_state[i])\n",
    "        current_thrust -= ref_state[i] - current_thrust\n",
    "    ## return the new, corrected state\n",
    "    return (current_thrust)\n",
    "\n",
    "# YOUR CODE HERE\n",
    "space_sim.run(5000, corrector=corrector)\n",
    "\n"
   ]
  },
  {
   "cell_type": "code",
   "execution_count": 85,
   "metadata": {
    "deletable": false,
    "editable": false,
    "nbgrader": {
     "checksum": "989227868e99f4e66de2fe373ba06cbf",
     "grade": false,
     "grade_id": "cell-68bf74d09b1f2084",
     "locked": true,
     "schema_version": 1,
     "solution": false
    }
   },
   "outputs": [
    {
     "name": "stdout",
     "output_type": "stream",
     "text": [
      "Max error: 51.933512255229949517\t Mean error: 4.44\t Cumulative error:6.66e+04\n"
     ]
    }
   ],
   "source": [
    "## Test the simulator\n",
    "## Compare the trajectory we found when simulating (actual) with what we\n",
    "## should have got for this trial (expected)\n",
    "expected, actual = space_sim.run(5000, corrector=corrector)\n",
    "max_error = np.max(np.abs(expected-actual))\n",
    "mean_error = np.mean(np.abs(expected-actual))\n",
    "accumulated_error = np.sum(np.abs(expected-actual))\n",
    "print(\"Max error: {max:.18f}\\t Mean error: {mean:.2f}\\t Cumulative error:{acc:.2e}\".format(max=max_error, mean=mean_error,\n",
    "                                                                                         acc=accumulated_error))"
   ]
  },
  {
   "cell_type": "code",
   "execution_count": 76,
   "metadata": {
    "deletable": false,
    "editable": false,
    "nbgrader": {
     "checksum": "6969419baceb45c6292f2ecb6b7437dd",
     "grade": true,
     "grade_id": "cell-2b4d36e72bbc2189",
     "locked": true,
     "points": 4,
     "schema_version": 1,
     "solution": false
    }
   },
   "outputs": [
    {
     "data": {
      "text/html": [
       "<h3> <!--{id:\"CORRECTMARK\", marks:\"4\"}--> <font color=\"green\"> ✓ [4 marks] </font> </h3>"
      ],
      "text/plain": [
       "<IPython.core.display.HTML object>"
      ]
     },
     "metadata": {},
     "output_type": "display_data"
    }
   ],
   "source": [
    "with tick.marks(4):\n",
    "    assert(np.isfinite(max_error))"
   ]
  },
  {
   "cell_type": "code",
   "execution_count": 86,
   "metadata": {
    "deletable": false,
    "editable": false,
    "nbgrader": {
     "checksum": "3065c0e3d2724476a817c368ea3b9f58",
     "grade": true,
     "grade_id": "cell-d9f1430e6e4477b5",
     "locked": true,
     "points": 4,
     "schema_version": 1,
     "solution": false
    }
   },
   "outputs": [
    {
     "data": {
      "text/html": [
       "<hr style=\"height:10px;border:none;color:#f00;background-color:#f00;\" /><h3> <!--{id:\"WRONGMARK\", marks:\"4\"}--> <font color=\"red\"> Test failed ✘ [0/4] marks </font> </h3>"
      ],
      "text/plain": [
       "<IPython.core.display.HTML object>"
      ]
     },
     "metadata": {},
     "output_type": "display_data"
    },
    {
     "ename": "AssertionError",
     "evalue": "",
     "output_type": "error",
     "traceback": [
      "\u001b[1;31m---------------------------------------------------------------------------\u001b[0m",
      "\u001b[1;31mAssertionError\u001b[0m                            Traceback (most recent call last)",
      "\u001b[1;32m<ipython-input-86-a0941171ea10>\u001b[0m in \u001b[0;36m<module>\u001b[1;34m()\u001b[0m\n\u001b[0;32m      1\u001b[0m \u001b[1;32mwith\u001b[0m \u001b[0mtick\u001b[0m\u001b[1;33m.\u001b[0m\u001b[0mmarks\u001b[0m\u001b[1;33m(\u001b[0m\u001b[1;36m4\u001b[0m\u001b[1;33m)\u001b[0m\u001b[1;33m:\u001b[0m\u001b[1;33m\u001b[0m\u001b[0m\n\u001b[0;32m      2\u001b[0m     \u001b[1;32massert\u001b[0m\u001b[1;33m(\u001b[0m\u001b[0mcheck_hash\u001b[0m\u001b[1;33m(\u001b[0m\u001b[0mexpected\u001b[0m\u001b[1;33m,\u001b[0m \u001b[1;33m(\u001b[0m\u001b[1;33m(\u001b[0m\u001b[1;36m5000\u001b[0m\u001b[1;33m,\u001b[0m \u001b[1;36m3\u001b[0m\u001b[1;33m)\u001b[0m\u001b[1;33m,\u001b[0m \u001b[1;36m1045614973.542989\u001b[0m\u001b[1;33m)\u001b[0m\u001b[1;33m)\u001b[0m\u001b[1;33m)\u001b[0m\u001b[1;33m\u001b[0m\u001b[0m\n\u001b[1;32m----> 3\u001b[1;33m     \u001b[1;32massert\u001b[0m\u001b[1;33m(\u001b[0m\u001b[0mmax_error\u001b[0m\u001b[1;33m<\u001b[0m\u001b[1;36m1e-1\u001b[0m \u001b[1;32mand\u001b[0m \u001b[0mmean_error\u001b[0m\u001b[1;33m<\u001b[0m\u001b[1;36m1e-4\u001b[0m \u001b[1;32mand\u001b[0m \u001b[0maccumulated_error\u001b[0m\u001b[1;33m<\u001b[0m\u001b[1;36m1.0\u001b[0m\u001b[1;33m)\u001b[0m\u001b[1;33m\u001b[0m\u001b[0m\n\u001b[0m",
      "\u001b[1;31mAssertionError\u001b[0m: "
     ]
    }
   ],
   "source": [
    "with tick.marks(4):\n",
    "    assert(check_hash(expected, ((5000, 3), 1045614973.542989)))\n",
    "    assert(max_error<1e-1 and mean_error<1e-4 and accumulated_error<1.0)"
   ]
  },
  {
   "cell_type": "markdown",
   "metadata": {},
   "source": [
    "If you want, you can view what the navigation system is doing as animation, by running the cell below. The current solution starts off okay, but rapidly becomes unstable to the point of being dangerous.\n",
    "\n",
    "If the satellite was operating correctly, the crosshairs would stay on top of their respective stars throughout the maneuver.\n",
    "\n",
    "<img src=\"imgs/astral.png\" width=\"50%\">"
   ]
  },
  {
   "cell_type": "code",
   "execution_count": 87,
   "metadata": {},
   "outputs": [
    {
     "name": "stdout",
     "output_type": "stream",
     "text": [
      "Exiting...\n"
     ]
    }
   ],
   "source": [
    "# Run the interactive viewer\n",
    "# Note: you don't have to do this, it's just to visualise what is going on.\n",
    "\n",
    "AstralViewer(expected, actual)\n",
    "# note: comment out the following line after running if you want to run the entire notebook without interruption\n",
    "%gui tk"
   ]
  },
  {
   "cell_type": "markdown",
   "metadata": {
    "deletable": false,
    "editable": false,
    "nbgrader": {
     "checksum": "05cde81cb894d950decb26819d045975",
     "grade": false,
     "grade_id": "cell-e88d85163a2f6996",
     "locked": true,
     "schema_version": 1,
     "solution": false
    }
   },
   "source": [
    "# 2. Debugging the dump [1 hour]\n",
    "\n",
    "Scenario: In your first day in a new post in the IT team in a finance company, you are provided with the a portion of a memory dump of a process that was running an important financial simulation. Unfortunately, the system crashed half way through and the raw memory dump is all that is left. You need to extract the relevant data so that the simulation can be restarted. \n",
    "\n",
    "You know the data is stored as a numerical array, so it has some known structure. You don't know the dtype or shape of the array, or where it starts or ends in the memory dump, however.\n",
    "\n",
    "**This is a puzzle which will require careful thinking, but very little code to be written**"
   ]
  },
  {
   "cell_type": "code",
   "execution_count": null,
   "metadata": {
    "deletable": false,
    "editable": false,
    "nbgrader": {
     "checksum": "d0d800f709a783f9f2a85f576ec09fd3",
     "grade": false,
     "grade_id": "cell-a8a2afe4520c1692",
     "locked": true,
     "schema_version": 1,
     "solution": false
    }
   },
   "outputs": [],
   "source": [
    "# read the data in\n",
    "with open(\"data/crash_bytes.dump\", \"rb\")  as f:\n",
    "    crash_dump = f.read()"
   ]
  },
  {
   "cell_type": "code",
   "execution_count": null,
   "metadata": {
    "deletable": false,
    "editable": false,
    "nbgrader": {
     "checksum": "7f588fd53ef0f02686967a8f12892f7b",
     "grade": false,
     "grade_id": "cell-509c272084457406",
     "locked": true,
     "schema_version": 1,
     "solution": false
    }
   },
   "outputs": [],
   "source": [
    "# the raw memory dump, in hex. This isn't too useful...\n",
    "def print_hex(x):\n",
    "    print(\" \".join([\"%02X\" % byte for byte in x]))    \n",
    "    \n",
    "print_hex(crash_dump)"
   ]
  },
  {
   "cell_type": "markdown",
   "metadata": {
    "deletable": false,
    "editable": false,
    "nbgrader": {
     "checksum": "2b4de8de96794ad54a1b8afc5a5d006f",
     "grade": false,
     "grade_id": "cell-70d474acad76e3d9",
     "locked": true,
     "schema_version": 1,
     "solution": false
    }
   },
   "source": [
    "### What you know\n",
    "All you have is the block of raw data you can see above.  You know the array is in there, but not exactly where it starts or stops.  \n",
    "The header information is gone, so there is no striding information/dope vector to go by.\n",
    "\n",
    "* You know that there is an increasing value in the first column of the data, which starts at 1:\n",
    "\n",
    "         ix      a    b    ...\n",
    "         1.0     ... \n",
    "         2.0     ...\n",
    "         3.0     ...\n",
    "         4.0     ...\n",
    "         ...\n",
    "     \n",
    "* You also know that all values are finite and there are no NaNs in the dataset.\n",
    "* All values in the array are known to be positive, greater than 0.001 and less than a million.\n",
    "* You can assume the data is some form of IEEE 754, though you do not know what specific type.\n",
    "* The data starts on a byte boundary.\n",
    "\n",
    "**This is sufficient information to solve the whole puzzle**"
   ]
  },
  {
   "cell_type": "markdown",
   "metadata": {
    "deletable": false,
    "editable": false,
    "nbgrader": {
     "checksum": "4065c112980992f3c4bcfddd1787d047",
     "grade": false,
     "grade_id": "cell-bd15883bf21d89b9",
     "locked": true,
     "schema_version": 1,
     "solution": false
    }
   },
   "source": [
    "### Task\n",
    "Recover the data, formatted correctly, and store it in the variable `recovered_array`. \n",
    "\n",
    "* This will take some trial and error (although there *is* a relatively fast way to do it).\n",
    "      "
   ]
  },
  {
   "cell_type": "markdown",
   "metadata": {
    "deletable": false,
    "editable": false,
    "nbgrader": {
     "checksum": "d7a82e136e4c544b5cba24afb70f9f8e",
     "grade": false,
     "grade_id": "cell-bb12e3dfddfe2c23",
     "locked": true,
     "schema_version": 1,
     "solution": false
    }
   },
   "source": [
    "* You can convert the data to a NumPy array like this:\n",
    "`np.frombuffer(bytes, dtype, count, offset)`\n",
    "* `bytes` the data to decode, as raw bytes\n",
    "* `dtype` the datatype of the data to decode\n",
    "* `count` the number of **elements** in the array\n",
    "* `offset` **in bytes** to start recovering data\n",
    "    "
   ]
  },
  {
   "cell_type": "code",
   "execution_count": null,
   "metadata": {},
   "outputs": [],
   "source": [
    "# A wrong example:\n",
    "# try and read 10 words from offset 0\n",
    "# this clearly isn't right, as you will see\n",
    "#np.frombuffer(crash_dump, dtype=np.float32, count=10, offset=0)\n",
    "# the raw memory dump, in hex. This isn't too useful...\n",
    "def print_hex(x):\n",
    "    print(\" \".join([\"%02X\" % byte for byte in x]))    \n",
    "    \n",
    "print_hex(crash_dump)"
   ]
  },
  {
   "cell_type": "markdown",
   "metadata": {
    "deletable": false,
    "editable": false,
    "nbgrader": {
     "checksum": "ed77cf42903ab70c99463e59829cf7a9",
     "grade": false,
     "grade_id": "cell-9b2e9df0ea9cc5fe",
     "locked": true,
     "schema_version": 1,
     "solution": false
    }
   },
   "source": [
    "* A hint: remember that you can print the float representation of a number, including how it will appear in memory in hex. Also, remember you need to infer the *shape* of the array."
   ]
  },
  {
   "cell_type": "code",
   "execution_count": null,
   "metadata": {},
   "outputs": [],
   "source": [
    "print_float_html(2)"
   ]
  },
  {
   "cell_type": "code",
   "execution_count": null,
   "metadata": {
    "deletable": false,
    "nbgrader": {
     "checksum": "353b74181f21b31e1555c811a6043638",
     "grade": false,
     "grade_id": "cell-0052fe4f66d7ebdc",
     "locked": false,
     "schema_version": 1,
     "solution": true
    }
   },
   "outputs": [],
   "source": [
    "# YOUR CODE HERE\n",
    "array = np.frombuffer(crash_dump, dtype=np.float64, count=84, offset=69)\n",
    "recovered_array = array.reshape([14,6])\n",
    "print(recovered_array)"
   ]
  },
  {
   "cell_type": "code",
   "execution_count": null,
   "metadata": {
    "deletable": false,
    "editable": false,
    "nbgrader": {
     "checksum": "7b75a2339969f8dad13d80609e1780da",
     "grade": true,
     "grade_id": "cell-9ac5af2bda4cd2ed",
     "locked": true,
     "points": 5,
     "schema_version": 1,
     "solution": false
    }
   },
   "outputs": [],
   "source": [
    "# test the shape\n",
    "with tick.marks(5):    \n",
    "    assert(check_hash(recovered_array.shape, ((2,), 70.0)))"
   ]
  },
  {
   "cell_type": "code",
   "execution_count": null,
   "metadata": {
    "deletable": false,
    "editable": false,
    "nbgrader": {
     "checksum": "9c01a00be48bf5da031d36bf4a467221",
     "grade": true,
     "grade_id": "cell-926515ccd575cbf4",
     "locked": true,
     "points": 8,
     "schema_version": 1,
     "solution": false
    }
   },
   "outputs": [],
   "source": [
    "# test if the result is correct   \n",
    "with tick.marks(8):    \n",
    "    assert(np.allclose(array_hash(recovered_array)[1], 753500.6447074682, atol=1e-2, rtol=1e-2))"
   ]
  },
  {
   "cell_type": "markdown",
   "metadata": {
    "deletable": false,
    "editable": false,
    "nbgrader": {
     "checksum": "6bf8abcccbfe4aa801b39a147dd08d2c",
     "grade": false,
     "grade_id": "cell-0e8cf17bfe87e8ff",
     "locked": true,
     "schema_version": 1,
     "solution": false
    }
   },
   "source": [
    "# 3. Working with tensors [1 hour]\n",
    "The file `data/font_sheet.png` contains a number of characters in different fonts. It is an image which consists of the images of each *printable* ASCII character, (characters 32-128) arranged left to right. Each character image is precisely square. \n",
    "\n",
    "These are the characters present, in order:"
   ]
  },
  {
   "cell_type": "code",
   "execution_count": 5,
   "metadata": {},
   "outputs": [
    {
     "name": "stdout",
     "output_type": "stream",
     "text": [
      " !\"#$%&'()*+,-./0123456789:;<=>?@ABCDEFGHIJKLMNOPQRSTUVWXYZ[\\]^_`abcdefghijklmnopqrstuvwxyz{|}~\n"
     ]
    }
   ],
   "source": [
    "chars = \"\".join([chr(i) for i in range(32,128)])\n",
    "print(chars)"
   ]
  },
  {
   "cell_type": "markdown",
   "metadata": {
    "deletable": false,
    "editable": false,
    "nbgrader": {
     "checksum": "71a40cf600df1c6947671f167e00c910",
     "grade": false,
     "grade_id": "cell-9e3426b2a10d4afc",
     "locked": true,
     "schema_version": 1,
     "solution": false
    }
   },
   "source": [
    "  \n",
    "Each font is also stacked left to right, so the image is one *very* long strip of characters. The image is grayscale."
   ]
  },
  {
   "cell_type": "code",
   "execution_count": 6,
   "metadata": {},
   "outputs": [
    {
     "name": "stdout",
     "output_type": "stream",
     "text": [
      "(1856, 6144)\n"
     ]
    }
   ],
   "source": [
    "all_fonts = ia.load_image_gray(\"data/font_sheet.png\")\n",
    "print(all_fonts.shape)"
   ]
  },
  {
   "cell_type": "code",
   "execution_count": 7,
   "metadata": {},
   "outputs": [
    {
     "data": {
      "image/png": "[encoded data removed]",
      "text/plain": [
       "<IPython.core.display.Image object>"
      ]
     },
     "metadata": {
      "image/png": {
       "width": "100%"
      }
     },
     "output_type": "display_data"
    }
   ],
   "source": [
    "# show a portion of the image\n",
    "ia.show_image(all_fonts[0:192, 0:192])\n"
   ]
  },
  {
   "cell_type": "markdown",
   "metadata": {
    "deletable": false,
    "editable": false,
    "nbgrader": {
     "checksum": "2665f585879e9fffcc281cb422d9af80",
     "grade": false,
     "grade_id": "cell-b8d67310b0668f38",
     "locked": true,
     "schema_version": 1,
     "solution": false
    }
   },
   "source": [
    "# Tasks\n",
    "A. Rearrange the image into a tensor called `font_sheet` that is ordered like this:\n",
    "\n",
    "        (rows, cols, font, character)\n",
    "        \n",
    "* Showing the image `font_sheet[:, :, 16, 33]` should show the \"A\" character of the 17th font.\n",
    "* Showing the image `font_sheet[:, :, 10, 1]` should be the \"!\" character of the 11th font."
   ]
  },
  {
   "cell_type": "code",
   "execution_count": 11,
   "metadata": {},
   "outputs": [
    {
     "data": {
      "text/latex": [
       "\\[   \\fbox{  $ \n",
       " \\quad \\  \\llap{0} \\ \\  \\strut  \\quad \\  \\llap{1} \\ \\  \\strut  \\quad \\  \\llap{2} \\ \\  \\strut  \\quad \\  \\llap{3} \\ \\  \\strut  \\quad \\  \\llap{4} \\ \\  \\strut  \\quad \\  \\llap{5} \\ \\  \\strut  \\quad \\  \\llap{6} \\ \\  \\strut  \\quad \\  \\llap{7} \\ \\  \\strut  \\quad \\  \\llap{8} \\ \\  \\strut  \\quad \\  \\llap{9} \\ \\  \\strut  \\quad \\  \\llap{10} \\ \\  \\strut  \\quad \\  \\llap{11} \\ \\  \\strut  \\quad \\  \\llap{12} \\ \\  \\strut  \\quad \\  \\llap{13} \\ \\  \\strut  \\quad \\  \\llap{14} \\ \\  \\strut  \\quad \\  \\llap{15} \\ \\  \\strut  \\quad \\  \\llap{16} \\ \\  \\strut  \\quad \\  \\llap{17} \\ \\  \\strut  \\quad \\  \\llap{18} \\ \\  \\strut  \\quad \\  \\llap{19} \\ \\  \\strut \\\\ \n",
       "\\quad \\  \\llap{20} \\ \\  \\strut  \\quad \\  \\llap{21} \\ \\  \\strut  \\quad \\  \\llap{22} \\ \\  \\strut  \\quad \\  \\llap{23} \\ \\  \\strut  \\quad \\  \\llap{24} \\ \\  \\strut  \\quad \\  \\llap{25} \\ \\  \\strut  \\quad \\  \\llap{26} \\ \\  \\strut  \\quad \\  \\llap{27} \\ \\  \\strut  \\quad \\  \\llap{28} \\ \\  \\strut  \\quad \\  \\llap{29} \\ \\  \\strut  \\quad \\  \\llap{30} \\ \\  \\strut  \\quad \\  \\llap{31} \\ \\  \\strut  \\quad \\  \\llap{32} \\ \\  \\strut  \\quad \\  \\llap{33} \\ \\  \\strut  \\quad \\  \\llap{34} \\ \\  \\strut  \\quad \\  \\llap{35} \\ \\  \\strut  \\quad \\  \\llap{36} \\ \\  \\strut  \\quad \\  \\llap{37} \\ \\  \\strut  \\quad \\  \\llap{38} \\ \\  \\strut  \\quad \\  \\llap{39} \\ \\  \\strut \\\\ \n",
       "\\quad \\  \\llap{40} \\ \\  \\strut  \\quad \\  \\llap{41} \\ \\  \\strut  \\quad \\  \\llap{42} \\ \\  \\strut  \\quad \\  \\llap{43} \\ \\  \\strut  \\quad \\  \\llap{44} \\ \\  \\strut  \\quad \\  \\llap{45} \\ \\  \\strut  \\quad \\  \\llap{46} \\ \\  \\strut  \\quad \\  \\llap{47} \\ \\  \\strut  \\quad \\  \\llap{48} \\ \\  \\strut  \\quad \\  \\llap{49} \\ \\  \\strut  \\quad \\  \\llap{50} \\ \\  \\strut  \\quad \\  \\llap{51} \\ \\  \\strut  \\quad \\  \\llap{52} \\ \\  \\strut  \\quad \\  \\llap{53} \\ \\  \\strut  \\quad \\  \\llap{54} \\ \\  \\strut  \\quad \\  \\llap{55} \\ \\  \\strut  \\quad \\  \\llap{56} \\ \\  \\strut  \\quad \\  \\llap{57} \\ \\  \\strut  \\quad \\  \\llap{58} \\ \\  \\strut  \\quad \\  \\llap{59} \\ \\  \\strut \\\\ \n",
       "\\quad \\  \\llap{60} \\ \\  \\strut  \\quad \\  \\llap{61} \\ \\  \\strut  \\quad \\  \\llap{62} \\ \\  \\strut  \\quad \\  \\llap{63} \\ \\  \\strut  \\quad \\  \\llap{64} \\ \\  \\strut  \\quad \\  \\llap{65} \\ \\  \\strut  \\quad \\  \\llap{66} \\ \\  \\strut  \\quad \\  \\llap{67} \\ \\  \\strut  \\quad \\  \\llap{68} \\ \\  \\strut  \\quad \\  \\llap{69} \\ \\  \\strut  \\quad \\  \\llap{70} \\ \\  \\strut  \\quad \\  \\llap{71} \\ \\  \\strut  \\quad \\  \\llap{72} \\ \\  \\strut  \\quad \\  \\llap{73} \\ \\  \\strut  \\quad \\  \\llap{74} \\ \\  \\strut  \\quad \\  \\llap{75} \\ \\  \\strut  \\quad \\  \\llap{76} \\ \\  \\strut  \\quad \\  \\llap{77} \\ \\  \\strut  \\quad \\  \\llap{78} \\ \\  \\strut  \\quad \\  \\llap{79} \\ \\  \\strut \\\\ \n",
       "\\quad \\  \\llap{80} \\ \\  \\strut  \\quad \\  \\llap{81} \\ \\  \\strut  \\quad \\  \\llap{82} \\ \\  \\strut  \\quad \\  \\llap{83} \\ \\  \\strut  \\quad \\  \\llap{84} \\ \\  \\strut  \\quad \\  \\llap{85} \\ \\  \\strut  \\quad \\  \\llap{86} \\ \\  \\strut  \\quad \\  \\llap{87} \\ \\  \\strut  \\quad \\  \\llap{88} \\ \\  \\strut  \\quad \\  \\llap{89} \\ \\  \\strut  \\quad \\  \\llap{90} \\ \\  \\strut  \\quad \\  \\llap{91} \\ \\  \\strut  \\quad \\  \\llap{92} \\ \\  \\strut  \\quad \\  \\llap{93} \\ \\  \\strut  \\quad \\  \\llap{94} \\ \\  \\strut  \\quad \\  \\llap{95} \\ \\  \\strut  \\quad \\  \\llap{96} \\ \\  \\strut  \\quad \\  \\llap{97} \\ \\  \\strut  \\quad \\  \\llap{98} \\ \\  \\strut  \\quad \\  \\llap{99} \\ \\  \\strut   \\strut $ }\\ \\  \\]"
      ],
      "text/plain": [
       "<IPython.core.display.Latex object>"
      ]
     },
     "metadata": {},
     "output_type": "display_data"
    },
    {
     "data": {
      "text/latex": [
       "\\[   \\fbox{  $ \n",
       "   \\fbox{  $ \n",
       " \\quad \\  \\llap{0} \\ \\  \\strut  \\quad \\  \\llap{1} \\ \\  \\strut  \\quad \\  \\llap{2} \\ \\  \\strut  \\quad \\  \\llap{3} \\ \\  \\strut  \\quad \\  \\llap{4} \\ \\  \\strut \\\\ \n",
       "\\quad \\  \\llap{5} \\ \\  \\strut  \\quad \\  \\llap{6} \\ \\  \\strut  \\quad \\  \\llap{7} \\ \\  \\strut  \\quad \\  \\llap{8} \\ \\  \\strut  \\quad \\  \\llap{9} \\ \\  \\strut \\\\ \n",
       "\\quad \\  \\llap{10} \\ \\  \\strut  \\quad \\  \\llap{11} \\ \\  \\strut  \\quad \\  \\llap{12} \\ \\  \\strut  \\quad \\  \\llap{13} \\ \\  \\strut  \\quad \\  \\llap{14} \\ \\  \\strut \\\\ \n",
       "\\quad \\  \\llap{15} \\ \\  \\strut  \\quad \\  \\llap{16} \\ \\  \\strut  \\quad \\  \\llap{17} \\ \\  \\strut  \\quad \\  \\llap{18} \\ \\  \\strut  \\quad \\  \\llap{19} \\ \\  \\strut \\\\ \n",
       "\\quad \\  \\llap{20} \\ \\  \\strut  \\quad \\  \\llap{21} \\ \\  \\strut  \\quad \\  \\llap{22} \\ \\  \\strut  \\quad \\  \\llap{23} \\ \\  \\strut  \\quad \\  \\llap{24} \\ \\  \\strut   \\strut $ }\\ \\    \\fbox{  $ \n",
       " \\quad \\  \\llap{25} \\ \\  \\strut  \\quad \\  \\llap{26} \\ \\  \\strut  \\quad \\  \\llap{27} \\ \\  \\strut  \\quad \\  \\llap{28} \\ \\  \\strut  \\quad \\  \\llap{29} \\ \\  \\strut \\\\ \n",
       "\\quad \\  \\llap{30} \\ \\  \\strut  \\quad \\  \\llap{31} \\ \\  \\strut  \\quad \\  \\llap{32} \\ \\  \\strut  \\quad \\  \\llap{33} \\ \\  \\strut  \\quad \\  \\llap{34} \\ \\  \\strut \\\\ \n",
       "\\quad \\  \\llap{35} \\ \\  \\strut  \\quad \\  \\llap{36} \\ \\  \\strut  \\quad \\  \\llap{37} \\ \\  \\strut  \\quad \\  \\llap{38} \\ \\  \\strut  \\quad \\  \\llap{39} \\ \\  \\strut \\\\ \n",
       "\\quad \\  \\llap{40} \\ \\  \\strut  \\quad \\  \\llap{41} \\ \\  \\strut  \\quad \\  \\llap{42} \\ \\  \\strut  \\quad \\  \\llap{43} \\ \\  \\strut  \\quad \\  \\llap{44} \\ \\  \\strut \\\\ \n",
       "\\quad \\  \\llap{45} \\ \\  \\strut  \\quad \\  \\llap{46} \\ \\  \\strut  \\quad \\  \\llap{47} \\ \\  \\strut  \\quad \\  \\llap{48} \\ \\  \\strut  \\quad \\  \\llap{49} \\ \\  \\strut   \\strut $ }\\ \\    \\fbox{  $ \n",
       " \\quad \\  \\llap{50} \\ \\  \\strut  \\quad \\  \\llap{51} \\ \\  \\strut  \\quad \\  \\llap{52} \\ \\  \\strut  \\quad \\  \\llap{53} \\ \\  \\strut  \\quad \\  \\llap{54} \\ \\  \\strut \\\\ \n",
       "\\quad \\  \\llap{55} \\ \\  \\strut  \\quad \\  \\llap{56} \\ \\  \\strut  \\quad \\  \\llap{57} \\ \\  \\strut  \\quad \\  \\llap{58} \\ \\  \\strut  \\quad \\  \\llap{59} \\ \\  \\strut \\\\ \n",
       "\\quad \\  \\llap{60} \\ \\  \\strut  \\quad \\  \\llap{61} \\ \\  \\strut  \\quad \\  \\llap{62} \\ \\  \\strut  \\quad \\  \\llap{63} \\ \\  \\strut  \\quad \\  \\llap{64} \\ \\  \\strut \\\\ \n",
       "\\quad \\  \\llap{65} \\ \\  \\strut  \\quad \\  \\llap{66} \\ \\  \\strut  \\quad \\  \\llap{67} \\ \\  \\strut  \\quad \\  \\llap{68} \\ \\  \\strut  \\quad \\  \\llap{69} \\ \\  \\strut \\\\ \n",
       "\\quad \\  \\llap{70} \\ \\  \\strut  \\quad \\  \\llap{71} \\ \\  \\strut  \\quad \\  \\llap{72} \\ \\  \\strut  \\quad \\  \\llap{73} \\ \\  \\strut  \\quad \\  \\llap{74} \\ \\  \\strut   \\strut $ }\\ \\    \\fbox{  $ \n",
       " \\quad \\  \\llap{75} \\ \\  \\strut  \\quad \\  \\llap{76} \\ \\  \\strut  \\quad \\  \\llap{77} \\ \\  \\strut  \\quad \\  \\llap{78} \\ \\  \\strut  \\quad \\  \\llap{79} \\ \\  \\strut \\\\ \n",
       "\\quad \\  \\llap{80} \\ \\  \\strut  \\quad \\  \\llap{81} \\ \\  \\strut  \\quad \\  \\llap{82} \\ \\  \\strut  \\quad \\  \\llap{83} \\ \\  \\strut  \\quad \\  \\llap{84} \\ \\  \\strut \\\\ \n",
       "\\quad \\  \\llap{85} \\ \\  \\strut  \\quad \\  \\llap{86} \\ \\  \\strut  \\quad \\  \\llap{87} \\ \\  \\strut  \\quad \\  \\llap{88} \\ \\  \\strut  \\quad \\  \\llap{89} \\ \\  \\strut \\\\ \n",
       "\\quad \\  \\llap{90} \\ \\  \\strut  \\quad \\  \\llap{91} \\ \\  \\strut  \\quad \\  \\llap{92} \\ \\  \\strut  \\quad \\  \\llap{93} \\ \\  \\strut  \\quad \\  \\llap{94} \\ \\  \\strut \\\\ \n",
       "\\quad \\  \\llap{95} \\ \\  \\strut  \\quad \\  \\llap{96} \\ \\  \\strut  \\quad \\  \\llap{97} \\ \\  \\strut  \\quad \\  \\llap{98} \\ \\  \\strut  \\quad \\  \\llap{99} \\ \\  \\strut   \\strut $ }\\ \\   \\strut $ }\\ \\  \\]"
      ],
      "text/plain": [
       "<IPython.core.display.Latex object>"
      ]
     },
     "metadata": {},
     "output_type": "display_data"
    }
   ],
   "source": [
    "## hint\n",
    "from jhwutils.matrices import show_boxed_tensor_latex\n",
    "n = np.arange(100).reshape(5, 20)\n",
    "show_boxed_tensor_latex(n, box_rows=False)\n",
    "show_boxed_tensor_latex(n.reshape(1,4,5,5), box_rows=False)"
   ]
  },
  {
   "cell_type": "code",
   "execution_count": 93,
   "metadata": {
    "deletable": false,
    "nbgrader": {
     "checksum": "9094e98e207c37606ecf1d7305e41f08",
     "grade": false,
     "grade_id": "cell-66e3a2fcbe9e7e36",
     "locked": false,
     "schema_version": 1,
     "solution": true
    }
   },
   "outputs": [
    {
     "name": "stdout",
     "output_type": "stream",
     "text": [
      "(49152, 8)\n",
      "(393216, 64, 6144, 8)\n",
      "(64, 64, 29, 96)\n",
      "[[1. 1. 1. ... 0. 0. 0.]\n",
      " [1. 1. 1. ... 1. 1. 1.]\n",
      " [1. 1. 1. ... 1. 1. 1.]\n",
      " ...\n",
      " [1. 1. 1. ... 0. 0. 1.]\n",
      " [1. 1. 1. ... 1. 0. 1.]\n",
      " [1. 1. 1. ... 1. 1. 0.]]\n"
     ]
    }
   ],
   "source": [
    "# YOUR CODE HERE\n",
    "\n",
    "#font_sheet= all_fonts.reshape(1856, 6144)\n",
    "#font_sheet= np.reshape(all_fonts,(29,96,64,64))\n",
    "\n",
    "print(all_fonts.strides)\n",
    "strides = all_fonts.itemsize * np.array([49152,8,768, 1])\n",
    "#strides = B.itemsize * np.array([18, 3, 6, 1])\n",
    "#strides = B.itemsize * np.array([12, 2, 6, 1])\n",
    "#np.lib.stride_tricks.as_strided(B, shape = (2,2,3,3), strides = strides)\n",
    "#font_sheet = np.lib.stride_tricks.as_strided(all_fonts, shape = (29,96,64,64), strides = strides)\n",
    "font_sheet = np.lib.stride_tricks.as_strided(all_fonts, shape = (64,64,29,96), strides = strides)\n",
    "print(font_sheet.strides)\n",
    "#font_sheet= np.reshape(font_sheet,(64,64,29,96))\n",
    "print(font_sheet.shape)\n",
    "print(font_sheet[:, :, 16, 33])\n",
    "#ia.show_image_mpl(font_sheet[:, :, 16, 33])    \n",
    "    \n",
    "#print(font_sheet.strides)\n",
    "#cat_strip = font_sheet.reshape(font_sheet.shape[0], font_sheet.shape[1])\n",
    "\n",
    "#ia.show_image(cat_strip[:,:10000])\n",
    "#ia.show_image(all_fonts[0:64, 64:128])\n",
    "\n",
    "#four_d = np.tile(ia, (64,64,29,96)) #maybe? using f_s gives mem error\n",
    "#i * stride[0] + j * stride[1] .... striding could also be useful for skipping 64 bits for each char\n",
    "\n",
    "#so i know this is the size of the tensor, 64*64 is the size of each char in the image, there are 29 rows and 96 cols\n",
    "#obviously if i know this i could slice it all and recreate it but, that defeats the purpose of numpy i guess...\n",
    "#[64, 64, 29, 96] \n",
    "#[xsizechar, ysizechar, ynochars , xnochars] \n",
    "\n"
   ]
  },
  {
   "cell_type": "code",
   "execution_count": 94,
   "metadata": {},
   "outputs": [
    {
     "data": {
      "image/png": "[encoded data removed]",
      "text/plain": [
       "<Figure size 432x288 with 1 Axes>"
      ]
     },
     "metadata": {
      "needs_background": "light"
     },
     "output_type": "display_data"
    }
   ],
   "source": [
    "# if your code worked, you should see an ! below\n",
    "ia.show_image_mpl(font_sheet[:,:,1,0])"
   ]
  },
  {
   "cell_type": "code",
   "execution_count": 41,
   "metadata": {},
   "outputs": [
    {
     "data": {
      "image/png": "[encoded data removed]",
      "text/plain": [
       "<IPython.core.display.Image object>"
      ]
     },
     "metadata": {
      "image/png": {
       "width": "20%"
      }
     },
     "output_type": "display_data"
    }
   ],
   "source": [
    "# if your code worked, you should see a gif of letters below\n",
    "ia.show_gif(np.rollaxis(font_sheet[:,:,8,33:33+26],2), width=\"20%\")\n"
   ]
  },
  {
   "cell_type": "code",
   "execution_count": 42,
   "metadata": {
    "deletable": false,
    "editable": false,
    "nbgrader": {
     "checksum": "4d498671de2cc2f383a7a20ac7cfce44",
     "grade": true,
     "grade_id": "cell-e21fcd41d335d470",
     "locked": true,
     "points": 6,
     "schema_version": 1,
     "solution": false
    }
   },
   "outputs": [
    {
     "data": {
      "text/html": [
       "<h3> <!--{id:\"CORRECTMARK\", marks:\"6\"}--> <font color=\"green\"> ✓ [6 marks] </font> </h3>"
      ],
      "text/plain": [
       "<IPython.core.display.HTML object>"
      ]
     },
     "metadata": {},
     "output_type": "display_data"
    }
   ],
   "source": [
    "# test shape is correct\n",
    "with tick.marks(6):        \n",
    "    assert(check_hash(font_sheet.shape, ((4,), 938.9499472573252)))"
   ]
  },
  {
   "cell_type": "code",
   "execution_count": 43,
   "metadata": {
    "deletable": false,
    "editable": false,
    "nbgrader": {
     "checksum": "f4dec7a2356055635a4aad5f21b72eca",
     "grade": true,
     "grade_id": "cell-b26945a0ff9f8ded",
     "locked": true,
     "points": 10,
     "schema_version": 1,
     "solution": false
    }
   },
   "outputs": [
    {
     "data": {
      "text/html": [
       "<hr style=\"height:10px;border:none;color:#f00;background-color:#f00;\" /><h3> <!--{id:\"WRONGMARK\", marks:\"10\"}--> <font color=\"red\"> Test failed ✘ [0/10] marks </font> </h3>"
      ],
      "text/plain": [
       "<IPython.core.display.HTML object>"
      ]
     },
     "metadata": {},
     "output_type": "display_data"
    },
    {
     "ename": "AssertionError",
     "evalue": "",
     "output_type": "error",
     "traceback": [
      "\u001b[1;31m---------------------------------------------------------------------------\u001b[0m",
      "\u001b[1;31mAssertionError\u001b[0m                            Traceback (most recent call last)",
      "\u001b[1;32m<ipython-input-43-1fcbc692befb>\u001b[0m in \u001b[0;36m<module>\u001b[1;34m()\u001b[0m\n\u001b[0;32m      1\u001b[0m \u001b[1;31m# test content is ok\u001b[0m\u001b[1;33m\u001b[0m\u001b[1;33m\u001b[0m\u001b[0m\n\u001b[0;32m      2\u001b[0m \u001b[1;32mwith\u001b[0m \u001b[0mtick\u001b[0m\u001b[1;33m.\u001b[0m\u001b[0mmarks\u001b[0m\u001b[1;33m(\u001b[0m\u001b[1;36m10\u001b[0m\u001b[1;33m)\u001b[0m\u001b[1;33m:\u001b[0m\u001b[1;33m\u001b[0m\u001b[0m\n\u001b[1;32m----> 3\u001b[1;33m     \u001b[1;32massert\u001b[0m\u001b[1;33m(\u001b[0m\u001b[0mnp\u001b[0m\u001b[1;33m.\u001b[0m\u001b[0mallclose\u001b[0m\u001b[1;33m(\u001b[0m\u001b[0marray_hash\u001b[0m\u001b[1;33m(\u001b[0m\u001b[0mfont_sheet\u001b[0m\u001b[1;33m)\u001b[0m\u001b[1;33m[\u001b[0m\u001b[1;36m1\u001b[0m\u001b[1;33m]\u001b[0m\u001b[1;33m,\u001b[0m \u001b[1;36m56642653249740.27\u001b[0m\u001b[1;33m,\u001b[0m \u001b[0matol\u001b[0m\u001b[1;33m=\u001b[0m\u001b[1;36m1e-2\u001b[0m\u001b[1;33m,\u001b[0m \u001b[0mrtol\u001b[0m\u001b[1;33m=\u001b[0m\u001b[1;36m1e-2\u001b[0m\u001b[1;33m)\u001b[0m\u001b[1;33m)\u001b[0m\u001b[1;33m\u001b[0m\u001b[0m\n\u001b[0m",
      "\u001b[1;31mAssertionError\u001b[0m: "
     ]
    }
   ],
   "source": [
    "# test content is ok\n",
    "with tick.marks(10):\n",
    "    assert(np.allclose(array_hash(font_sheet)[1], 56642653249740.27, atol=1e-2, rtol=1e-2))    "
   ]
  },
  {
   "cell_type": "markdown",
   "metadata": {
    "deletable": false,
    "editable": false,
    "nbgrader": {
     "checksum": "342a9e19c4665cee9957bc92358c3bde",
     "grade": false,
     "grade_id": "cell-c660c03ac76fe59b",
     "locked": true,
     "schema_version": 1,
     "solution": false
    }
   },
   "source": [
    "B. Create an array `mean_letters`, which will be a 2D image containing the mean image of each character, reduced across all fonts, for all of the letters in *the lowercase alphabet*.  The letters should be arranged horizontally and contiguously in a strip in the output image:\n",
    "\n",
    "       abcdefghijklmnopqrstuvwxyz\n",
    "\n",
    "You should be able to *vaguely* make out the shape of the letters. Hint: if you have trouble debugging this code, try taking the mean over just one or two fonts, to see if the letter shapes look right, before expanding to cover all fonts.\n",
    "\n",
    "Hint:\n",
    "* you will have to partially *undo* some of the swapping/reshaping you did earlier to get the data in the right format\n",
    "* remember that reductions (like mean) collapse one or more of the dimensions of a tensor\n",
    "* You'll need to slice -- work out how to slice the array correctly"
   ]
  },
  {
   "cell_type": "code",
   "execution_count": null,
   "metadata": {
    "deletable": false,
    "nbgrader": {
     "checksum": "bc8bf8fce5787bb58dac807e78af8097",
     "grade": false,
     "grade_id": "cell-885aa32f73499743",
     "locked": false,
     "schema_version": 1,
     "solution": true
    }
   },
   "outputs": [],
   "source": [
    "# YOUR CODE HERE"
   ]
  },
  {
   "cell_type": "code",
   "execution_count": null,
   "metadata": {},
   "outputs": [],
   "source": [
    "# the results will be blurry, but you should be able to make out the letters (just)\n",
    "ia.show_image(mean_letters)"
   ]
  },
  {
   "cell_type": "code",
   "execution_count": null,
   "metadata": {
    "deletable": false,
    "editable": false,
    "nbgrader": {
     "checksum": "156d62752b80b70ace37d19d8295c19e",
     "grade": true,
     "grade_id": "cell-70f65b6bc9676a93",
     "locked": true,
     "points": 8,
     "schema_version": 1,
     "solution": false
    }
   },
   "outputs": [],
   "source": [
    "\n",
    "with tick.marks(8):\n",
    "    assert(check_hash(mean_letters,((64, 1664), 4861094994.1019411)))"
   ]
  },
  {
   "cell_type": "markdown",
   "metadata": {
    "deletable": false,
    "editable": false,
    "nbgrader": {
     "checksum": "be051de5d64828ef7763fa86e2f2f59b",
     "grade": false,
     "grade_id": "cell-36342921a0efbd7d",
     "locked": true,
     "schema_version": 1,
     "solution": false
    }
   },
   "source": [
    "C. Show the parts of the letters that are the *most* consistent by computing the standard deviation across the fonts in the same way you computed the mean (hint: `np.std`). Then compute:\n",
    "\n",
    "        mean_letters_contrast = (contrast_factor - mean / (std+0.1)) \n",
    "\n",
    " Store the result in `mean_letters_contrast`. Use a contrast factor of 3.0. Show the result.\n",
    " Hint: this is easy."
   ]
  },
  {
   "cell_type": "code",
   "execution_count": null,
   "metadata": {
    "deletable": false,
    "nbgrader": {
     "checksum": "ab5df9bb8c093d929deac48aeff63822",
     "grade": false,
     "grade_id": "cell-e9b55239e54bd3d9",
     "locked": false,
     "schema_version": 1,
     "solution": true
    }
   },
   "outputs": [],
   "source": [
    "# YOUR CODE HERE"
   ]
  },
  {
   "cell_type": "code",
   "execution_count": null,
   "metadata": {
    "deletable": false,
    "editable": false,
    "nbgrader": {
     "checksum": "00b8faa1ba339a6c35d49fe00c0e2b6e",
     "grade": true,
     "grade_id": "cell-23945e7b1798eac2",
     "locked": true,
     "points": 5,
     "schema_version": 1,
     "solution": false
    }
   },
   "outputs": [],
   "source": [
    "with tick.marks(5):\n",
    "    print(array_hash(mean_letters_contrast))\n",
    "    assert(check_hash(mean_letters_contrast, ((64, 1664), -81760698691.29358)))"
   ]
  },
  {
   "cell_type": "markdown",
   "metadata": {},
   "source": [
    "# End of assessed portion\n",
    "\n",
    "----------------------------------\n",
    "\n",
    "## Extended material\n",
    "\n",
    "<font color=\"red\"> Material beyond this point is optional. You do not have to attempt it or look at it. There are no marks. \n",
    "</font>"
   ]
  },
  {
   "cell_type": "markdown",
   "metadata": {},
   "source": [
    "## Rendering fonts\n",
    "Complete the function below. It should render text using the provided font index, and *return* a single array with the text rendered in a horizontal strip. It should use `font_sheet` that you defined earlier. You can assume equal spacing of letters. \n",
    "\n",
    "* You can compute the index of the character in the same units as the font sheet using the formula:\n",
    "\n",
    "      ix = ord(char) - 32\n",
    "    \n",
    "Every ASCII character (32-127) should be rendered. Any character that could not be rendered should be rendered as a **blank white** square.    \n",
    "\n",
    "* It is fine to use a `for` loop to solve this problem"
   ]
  },
  {
   "cell_type": "code",
   "execution_count": null,
   "metadata": {
    "deletable": false,
    "nbgrader": {
     "checksum": "f3928feae007c14a8a77f3d94e389088",
     "grade": false,
     "grade_id": "cell-5ae83dcf83f39b03",
     "locked": false,
     "schema_version": 1,
     "solution": true
    }
   },
   "outputs": [],
   "source": [
    "def render_text(string, font_index):\n",
    "    \"\"\"Returns an image with the given string rendered, using the font_index selected.\n",
    "    Reads characters from font_sheet.\n",
    "    string: String to be rendered.\n",
    "    font_index: index of the font to use\"\"\"\n",
    "    pass # you can delete this line\n",
    "    # YOUR CODE HERE"
   ]
  },
  {
   "cell_type": "code",
   "execution_count": null,
   "metadata": {},
   "outputs": [],
   "source": [
    "# you should be able to read this\n",
    "ia.show_image(render_text(\"Can you see this clearly?\", 23))"
   ]
  },
  {
   "cell_type": "code",
   "execution_count": null,
   "metadata": {},
   "outputs": [],
   "source": [
    "# this should look the same\n",
    "ia.show_image(render_text(\"Can\\tyou\\nsee\\xf5this\\x00clearly?\", 23))"
   ]
  },
  {
   "cell_type": "code",
   "execution_count": null,
   "metadata": {},
   "outputs": [],
   "source": [
    "ia.show_image(render_text(\"Data Fundamentals (H)\", 1))"
   ]
  },
  {
   "cell_type": "code",
   "execution_count": null,
   "metadata": {
    "deletable": false,
    "editable": false,
    "nbgrader": {
     "checksum": "cd7c85ff2112f9c40e3453be6ca2906a",
     "grade": false,
     "grade_id": "cell-3a50d2f27fc709fc",
     "locked": true,
     "schema_version": 1,
     "solution": false
    }
   },
   "outputs": [],
   "source": [
    "with tick.marks(0):\n",
    "    assert(check_hash(render_text(\"Test 1\", 1), ((64, 384), 269160963.20571893)))"
   ]
  },
  {
   "cell_type": "code",
   "execution_count": null,
   "metadata": {
    "deletable": false,
    "editable": false,
    "nbgrader": {
     "checksum": "90069727e76fbd2d1681a53b679637c9",
     "grade": false,
     "grade_id": "cell-12523efdd62618b3",
     "locked": true,
     "schema_version": 1,
     "solution": false
    }
   },
   "outputs": [],
   "source": [
    "with tick.marks(0):\n",
    "    assert(check_hash(render_text(\"Test 2\", 2),((64, 384), 282670129.18082076)))"
   ]
  },
  {
   "cell_type": "code",
   "execution_count": null,
   "metadata": {
    "deletable": false,
    "editable": false,
    "nbgrader": {
     "checksum": "0f256dff3b69cc6471a0e2b37ed18274",
     "grade": false,
     "grade_id": "cell-74c0a0336db2f47e",
     "locked": true,
     "schema_version": 1,
     "solution": false
    }
   },
   "outputs": [],
   "source": [
    "with tick.marks(0):\n",
    "    assert(check_hash(render_text(\"Test\\n3\", 3), ((64, 384), 283057779.18977338)))"
   ]
  },
  {
   "cell_type": "code",
   "execution_count": null,
   "metadata": {
    "deletable": false,
    "editable": false,
    "nbgrader": {
     "checksum": "0dcb26ffd9be4b62a4bf0de217339c89",
     "grade": false,
     "grade_id": "cell-0fd9508a61e6950e",
     "locked": true,
     "schema_version": 1,
     "solution": false
    }
   },
   "outputs": [],
   "source": [
    "with tick.marks(0):\n",
    "    assert(check_hash(render_text(\"\\n\\tTest\\x00\\xff4\", 4), ((64, 576), 657469474.43368447)))"
   ]
  },
  {
   "cell_type": "markdown",
   "metadata": {},
   "source": [
    "-----\n",
    "\n",
    "# Submission instructions"
   ]
  },
  {
   "cell_type": "markdown",
   "metadata": {},
   "source": [
    "### Checking your work\n",
    "## Mark summary\n",
    "You should check the marks you've got before submitting. To do this, \n",
    "* Make sure you fill in any place that says `YOUR CODE HERE` or \"YOUR ANSWER HERE\", as well as your name and matriculation number at the top.\n",
    "* SAVE THE NOTEBOOK, \n",
    "* Go to `Cell/Restart and Run All` in the menu.\n",
    "* Check the output of the cell here.\n",
    "\n",
    "Note that this is an estimated mark, and if you don't do the above procedure *carefully* you may get nonsense estimates.\n"
   ]
  },
  {
   "cell_type": "code",
   "execution_count": null,
   "metadata": {},
   "outputs": [],
   "source": [
    "summarise_marks()"
   ]
  },
  {
   "cell_type": "markdown",
   "metadata": {},
   "source": [
    "### Formatting the submission\n",
    "* **WARNING**: If you do not submit the correct file, you will not get any marks.\n",
    "* Submit this file **only** on Moodle. It will be named `week_<xxx>.ipynb`."
   ]
  },
  {
   "cell_type": "markdown",
   "metadata": {},
   "source": [
    "\n",
    "## Penalties (only for assessed labs)\n",
    "<font color=\"red\">\n",
    "    \n",
    "**Malformatted submissions**\n",
    "</font>\n",
    "These assignments are processed with an automatic tool; failure to follow instructions *precisely* will lead to you automatically losing two bands in grade regardless of whether the work is correct (not to mention a long delay in getting your work back). **If you submit a file without your work in it, it will be marked and you will get 0 marks.**\n",
    "\n",
    "<font color=\"red\">**Late submission**</font>\n",
    "Be aware that there is a two band penalty for every *day* of late submission, starting the moment of the deadline.\n",
    "\n",
    "<font color=\"red\">\n",
    "    \n",
    "**Plagiarism**\n",
    "</font> Any form of plagiarism will be subject to the Plagiarism Policy. The penalties are severe."
   ]
  },
  {
   "cell_type": "code",
   "execution_count": null,
   "metadata": {},
   "outputs": [],
   "source": []
  }
 ],
 "metadata": {
  "kernelspec": {
   "display_name": "Python 3",
   "language": "python",
   "name": "python3"
  },
  "language_info": {
   "codemirror_mode": {
    "name": "ipython",
    "version": 3
   },
   "file_extension": ".py",
   "mimetype": "text/x-python",
   "name": "python",
   "nbconvert_exporter": "python",
   "pygments_lexer": "ipython3",
   "version": "3.6.6"
  },
  "toc": {
   "nav_menu": {},
   "number_sections": true,
   "sideBar": true,
   "skip_h1_title": false,
   "toc_cell": false,
   "toc_position": {},
   "toc_section_display": "block",
   "toc_window_display": false
  }
 },
 "nbformat": 4,
 "nbformat_minor": 1
}
